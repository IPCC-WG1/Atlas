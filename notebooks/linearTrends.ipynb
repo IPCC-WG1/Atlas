{
 "cells": [
  {
   "cell_type": "markdown",
   "metadata": {},
   "source": [
    "# Atlas notebooks\n",
    "\n",
    "***\n",
    "\n",
    "> This notebook reproduces and extends parts of the regional figures of the AR6-WGI Atlas chapter. It is part of a notebook collection available at https://github.com/IPCC-WG1/Atlas for reproducibility and reusability purposes."
   ]
  },
  {
   "cell_type": "markdown",
   "metadata": {},
   "source": [
    "## Computing and visualization of precipitation linear trends during the observed period (1980-2014)\n",
    "\n",
    "07/07/2021\n",
    "\n",
    "**J. Baño-Medina** ([Santander Meteorology Group](http://meteo.unican.es), Instituto de Física de Cantabria, CSIC-UC, Santander, Spain)\n",
    "\n",
    "We present an illustrative example to use the Atlas hub and the climate4R framework to depict the observed linear trends and the anomalies time series of precipitation over North America, over a selected time period for the Daymet (version 3) observational dataset. Indications are also provided to apply the methodology to other variables, such as temperature."
   ]
  },
  {
   "cell_type": "markdown",
   "metadata": {},
   "source": [
    "### Load packages\n",
    "\n",
    "The notebok relies on several climate4R packages:"
   ]
  },
  {
   "cell_type": "code",
   "execution_count": 1,
   "metadata": {
    "collapsed": true
   },
   "outputs": [
    {
     "name": "stderr",
     "output_type": "stream",
     "text": [
      "Loading required package: rJava\n",
      "Loading required package: loadeR.java\n",
      "Java version 11x amd64 by Oracle Corporation detected\n",
      "NetCDF Java Library v4.6.0-SNAPSHOT (23 Apr 2015) loaded and ready\n",
      "Loading required package: climate4R.UDG\n",
      "climate4R.UDG version 0.2.0 (2020-07-31) is loaded\n",
      "WARNING: Your current version of climate4R.UDG (v0.2.0) is not up-to-date\n",
      "Get the latest stable version (0.2.3) using <devtools::install_github('SantanderMetGroup/climate4R.UDG')>\n",
      "Please use 'citation(\"climate4R.UDG\")' to cite this package.\n",
      "loadeR version 1.7.0 (2020-09-18) is loaded\n",
      "WARNING: Your current version of loadeR (v1.7.0) is not up-to-date\n",
      "Get the latest stable version (1.7.1) using <devtools::install_github(c('SantanderMetGroup/climate4R.UDG','SantanderMetGroup/loadeR'))>\n",
      "Please use 'citation(\"loadeR\")' to cite this package.\n"
     ]
    },
    {
     "name": "stdout",
     "output_type": "stream",
     "text": [
      "\n",
      "    _______   ____  ___________________  __  ________ \n",
      "   / ___/ /  / /  |/  / __  /_  __/ __/ / / / / __  / \n",
      "  / /  / /  / / /|_/ / /_/ / / / / __/ / /_/ / /_/_/  \n",
      " / /__/ /__/ / /  / / __  / / / / /__ /___  / / \\ \\ \n",
      " \\___/____/_/_/  /_/_/ /_/ /_/  \\___/    /_/\\/   \\_\\ \n",
      " \n",
      "      github.com/SantanderMetGroup/climate4R\n",
      "\n"
     ]
    },
    {
     "name": "stderr",
     "output_type": "stream",
     "text": [
      "transformeR version 2.1.0 (2021-03-17) is loaded\n",
      "WARNING: Your current version of transformeR (v2.1.0) is not up-to-date\n",
      "Get the latest stable version (2.1.2) using <devtools::install_github('SantanderMetGroup/transformeR')>\n",
      "Please see 'citation(\"transformeR\")' to cite this package.\n",
      "visualizeR version 1.6.0 (2020-05-23) is loaded\n",
      "WARNING: Your current version of visualizeR (v1.6.0) is not up-to-date\n",
      "Get the latest stable version (1.6.1) using <devtools::install_github('SantanderMetGroup/visualizeR')>\n",
      "Please see 'citation(\"visualizeR\")' to cite this package.\n",
      "geoprocessoR version 0.2.0 (2020-01-06) is loaded\n",
      "Please see 'citation(\"geoprocessoR\")' to cite this package.\n"
     ]
    }
   ],
   "source": [
    "options(java.parameters = \"-Xmx8g\") # extends Java (loadeR) memory allocation\n",
    "library(loadeR)\n",
    "library(transformeR)\n",
    "library(visualizeR) # spatialPlot\n",
    "library(geoprocessoR)\n",
    "library(climate4R.indices) # linearTrend"
   ]
  },
  {
   "cell_type": "markdown",
   "metadata": {},
   "source": [
    "Along with other libraries, namely:\n",
    "\n",
    " * `magrittr` is used to pipe (%>%) sequences of data operations\n",
    " * `gridExtra` provides plotting functionalities\n",
    " * `sp` and `rgdal` provide geospatial tools\n",
    " * `RColorBrewer` provides color palettes"
   ]
  },
  {
   "cell_type": "code",
   "execution_count": 2,
   "metadata": {
    "collapsed": true
   },
   "outputs": [
    {
     "name": "stderr",
     "output_type": "stream",
     "text": [
      "rgdal: version: 1.5-16, (SVN revision 1050)\n",
      "Geospatial Data Abstraction Library extensions to R successfully loaded\n",
      "Loaded GDAL runtime: GDAL 3.2.2, released 2021/03/05\n",
      "Path to GDAL shared files: /home/chus/usr/miniconda3/envs/c4r/share/gdal\n",
      "GDAL binary built with GEOS: TRUE \n",
      "Loaded PROJ runtime: Rel. 8.0.0, March 1st, 2021, [PJ_VERSION: 800]\n",
      "Path to PROJ shared files: /home/chus/usr/miniconda3/envs/c4r/share/proj\n",
      "PROJ CDN enabled: TRUE\n",
      "Linking to sp version:1.4-5\n",
      "To mute warnings of possible GDAL/OSR exportToProj4() degradation,\n",
      "use options(\"rgdal_show_exportToProj4_warnings\"=\"none\") before loading rgdal.\n"
     ]
    }
   ],
   "source": [
    "library(magrittr)\n",
    "#library(gridExtra)\n",
    "library(sp)\n",
    "library(RColorBrewer)\n",
    "library(rgdal) # readOGR"
   ]
  },
  {
   "cell_type": "markdown",
   "metadata": {},
   "source": [
    "### Set parameters\n",
    "We can tune these parameters to define characteristics of the data to be loaded (e.g., variable to process, domain boundaries, temporal period)"
   ]
  },
  {
   "cell_type": "code",
   "execution_count": null,
   "metadata": {},
   "outputs": [],
   "source": [
    "# Parameters for downloading data\n",
    "var <- \"pr\" # Variable names; type  for name coding\n",
    "latLim <- c(12,74) # Latitude boundaries\n",
    "lonLim <- c(-170,-50) # Longitude boundaries\n",
    "years <- 1980:2014 # temporal period"
   ]
  },
  {
   "cell_type": "markdown",
   "metadata": {},
   "source": [
    "You can find out other variable names by issuing `C4R.vocabulary()`.\n",
    "\n",
    "The following setting control the plots below. They define colorbar ranges and, thus, depend on the variable units."
   ]
  },
  {
   "cell_type": "code",
   "execution_count": 5,
   "metadata": {},
   "outputs": [],
   "source": [
    "colorScale_climatology <- seq(0, 10, 1)\n",
    "colorScale_trends <- seq(-0.1, 0.1, 0.01)\n",
    "ylim_anom <- c(-1,1)"
   ]
  },
  {
   "cell_type": "markdown",
   "metadata": {},
   "source": [
    "### Load static data"
   ]
  },
  {
   "cell_type": "markdown",
   "metadata": {},
   "source": [
    "We will load the boundaries of the IPCC [reference regions](../reference-regions) v4:"
   ]
  },
  {
   "cell_type": "code",
   "execution_count": 3,
   "metadata": {},
   "outputs": [],
   "source": [
    "regs <- get(load(\"../reference-regions/IPCC-WGI-reference-regions-v4_R.rda\")) %>% as(\"SpatialPolygons\")\n",
    "regs.area <- c(\"NWN\", \"NEN\", \"WNA\", \"CNA\",\"ENA\",\"NCA\",\"SCA\",\"CAR\") # North America regions"
   ]
  },
  {
   "cell_type": "markdown",
   "metadata": {},
   "source": [
    "We load also the coastlines, to be used in the spatial maps below. These are available in the [auxiliary-material](./auxiliary-material) folder:"
   ]
  },
  {
   "cell_type": "code",
   "execution_count": 4,
   "metadata": {},
   "outputs": [
    {
     "name": "stdout",
     "output_type": "stream",
     "text": [
      "OGR data source with driver: ESRI Shapefile \n",
      "Source: \"/home/chus/zzgit/IPCC-WG1/Atlas/notebooks/auxiliary-material/WORLD_coastline.shp\", layer: \"WORLD_coastline\"\n",
      "with 127 features\n",
      "It has 2 fields\n"
     ]
    }
   ],
   "source": [
    "coast <- readOGR(\"auxiliary-material/WORLD_coastline.shp\") "
   ]
  },
  {
   "cell_type": "markdown",
   "metadata": {},
   "source": [
    "### Load observations from the User Data Gateway\n",
    "\n",
    "To load data stored in the User Data Gateway (similar to loading data from a local directory), we rely on the C4R library called `climate4R.UDG`, that contains 2 main functions: `UDG.datasets` and `loadGridData`.\n",
    "\n",
    "Note that you should have a working UDG account in order for these code chunks to work. See the next section ([Load data from file](#Load-data-from-file)) to load these data from a local copy available in the repository.\n",
    "\n",
    "On the one hand, `UDG.datasets` lists all the datasets accessible from the UDG."
   ]
  },
  {
   "cell_type": "code",
   "execution_count": 6,
   "metadata": {},
   "outputs": [
    {
     "name": "stderr",
     "output_type": "stream",
     "text": [
      "Matches found for: OBSERVATIONS\n",
      "Label names are returned, set argument full.info = TRUE to get more information\n"
     ]
    },
    {
     "data": {
      "text/html": [
       "<strong>$OBSERVATIONS</strong> = <ol class=list-inline>\n",
       "\t<li>'PIK_Obs-EWEMBI'</li>\n",
       "\t<li>'E-OBS_v14_0.50regular'</li>\n",
       "\t<li>'E-OBS_v14_0.44rotated'</li>\n",
       "\t<li>'E-OBS_v14_0.25regular'</li>\n",
       "\t<li>'E-OBS_v14_0.22rotated'</li>\n",
       "\t<li>'E-OBS_v17_0.50regular'</li>\n",
       "\t<li>'E-OBS_v17_0.44rotated'</li>\n",
       "\t<li>'E-OBS_v17_0.25regular'</li>\n",
       "\t<li>'E-OBS_v17_0.22rotated'</li>\n",
       "</ol>\n"
      ],
      "text/latex": [
       "\\textbf{\\$OBSERVATIONS} = \\begin{enumerate*}\n",
       "\\item 'PIK\\_Obs-EWEMBI'\n",
       "\\item 'E-OBS\\_v14\\_0.50regular'\n",
       "\\item 'E-OBS\\_v14\\_0.44rotated'\n",
       "\\item 'E-OBS\\_v14\\_0.25regular'\n",
       "\\item 'E-OBS\\_v14\\_0.22rotated'\n",
       "\\item 'E-OBS\\_v17\\_0.50regular'\n",
       "\\item 'E-OBS\\_v17\\_0.44rotated'\n",
       "\\item 'E-OBS\\_v17\\_0.25regular'\n",
       "\\item 'E-OBS\\_v17\\_0.22rotated'\n",
       "\\end{enumerate*}\n"
      ],
      "text/markdown": [
       "**$OBSERVATIONS** = 1. 'PIK_Obs-EWEMBI'\n",
       "2. 'E-OBS_v14_0.50regular'\n",
       "3. 'E-OBS_v14_0.44rotated'\n",
       "4. 'E-OBS_v14_0.25regular'\n",
       "5. 'E-OBS_v14_0.22rotated'\n",
       "6. 'E-OBS_v17_0.50regular'\n",
       "7. 'E-OBS_v17_0.44rotated'\n",
       "8. 'E-OBS_v17_0.25regular'\n",
       "9. 'E-OBS_v17_0.22rotated'\n",
       "\n",
       "\n"
      ],
      "text/plain": [
       "$OBSERVATIONS\n",
       "[1] \"PIK_Obs-EWEMBI\"        \"E-OBS_v14_0.50regular\" \"E-OBS_v14_0.44rotated\"\n",
       "[4] \"E-OBS_v14_0.25regular\" \"E-OBS_v14_0.22rotated\" \"E-OBS_v17_0.50regular\"\n",
       "[7] \"E-OBS_v17_0.44rotated\" \"E-OBS_v17_0.25regular\" \"E-OBS_v17_0.22rotated\"\n"
      ]
     },
     "metadata": {},
     "output_type": "display_data"
    }
   ],
   "source": [
    "# devtools::install_github(\"SantanderMetGroup/climate4R.hub\") # Uncomment this line to install climate4R.hub\n",
    "library(climate4R.UDG)\n",
    "UDG.datasets(\"obs\")"
   ]
  },
  {
   "cell_type": "code",
   "execution_count": 8,
   "metadata": {},
   "outputs": [
    {
     "name": "stderr",
     "output_type": "stream",
     "text": [
      "[2021-07-07 18:18:17] Setting credentials...\n",
      "[2021-07-07 18:18:17] Success!\n",
      "Go to <http://www.meteo.unican.es/udg-tap/home> for details on your authorized groups and datasets\n"
     ]
    }
   ],
   "source": [
    "loginUDG(\"chus\",\"password\")"
   ]
  },
  {
   "cell_type": "markdown",
   "metadata": {},
   "source": [
    "We see how, to-date, only EWEMBI and E-OBS datasets are available from the UDG (more coming). For example, to load EWEMBI we just input the corresponding label to the `dataset` argument in `loadGridData`. We load them year by year in the following loop to save memory. We end up with a dataset (a climate4R Grid object) containing yearly averages for the region selected. The following piece of code takes about 1 minute per year loaded (depends on your network connection speed)."
   ]
  },
  {
   "cell_type": "code",
   "execution_count": 9,
   "metadata": {
    "scrolled": true
   },
   "outputs": [
    {
     "name": "stderr",
     "output_type": "stream",
     "text": [
      " ** Reading year 1980\n",
      "NOTE: Accessing harmonized data from a public UDG dataset\n",
      "[2021-07-07 18:18:20] Defining harmonization parameters for variable \"pr\"\n",
      "[2021-07-07 18:18:20] Opening dataset...\n",
      "[2021-07-07 18:18:22] The dataset was successfuly opened\n",
      "[2021-07-07 18:18:22] Defining geo-location parameters\n",
      "[2021-07-07 18:18:22] Defining time selection parameters\n",
      "[2021-07-07 18:18:22] Retrieving data subset ...\n",
      "[2021-07-07 18:19:20] Done\n",
      "[2021-07-07 18:19:20] Performing annual aggregation...\n",
      "[2021-07-07 18:19:23] Done.\n",
      " ** Reading year 1981\n",
      "NOTE: Accessing harmonized data from a public UDG dataset\n",
      "[2021-07-07 18:19:23] Defining harmonization parameters for variable \"pr\"\n",
      "[2021-07-07 18:19:23] Opening dataset...\n",
      "[2021-07-07 18:19:24] The dataset was successfuly opened\n",
      "[2021-07-07 18:19:24] Defining geo-location parameters\n",
      "[2021-07-07 18:19:24] Defining time selection parameters\n",
      "[2021-07-07 18:19:24] Retrieving data subset ...\n",
      "[2021-07-07 18:20:27] Done\n",
      "[2021-07-07 18:20:27] Performing annual aggregation...\n",
      "[2021-07-07 18:20:30] Done.\n",
      " ** Reading year 1982\n",
      "NOTE: Accessing harmonized data from a public UDG dataset\n",
      "[2021-07-07 18:20:30] Defining harmonization parameters for variable \"pr\"\n",
      "[2021-07-07 18:20:30] Opening dataset...\n",
      "[2021-07-07 18:20:31] The dataset was successfuly opened\n",
      "[2021-07-07 18:20:31] Defining geo-location parameters\n",
      "[2021-07-07 18:20:31] Defining time selection parameters\n",
      "[2021-07-07 18:20:31] Retrieving data subset ...\n",
      "[2021-07-07 18:21:33] Done\n",
      "[2021-07-07 18:21:33] Performing annual aggregation...\n",
      "[2021-07-07 18:21:36] Done.\n",
      " ** Reading year 1983\n",
      "NOTE: Accessing harmonized data from a public UDG dataset\n",
      "[2021-07-07 18:21:36] Defining harmonization parameters for variable \"pr\"\n",
      "[2021-07-07 18:21:36] Opening dataset...\n",
      "[2021-07-07 18:21:37] The dataset was successfuly opened\n",
      "[2021-07-07 18:21:37] Defining geo-location parameters\n",
      "[2021-07-07 18:21:37] Defining time selection parameters\n",
      "[2021-07-07 18:21:37] Retrieving data subset ...\n",
      "[2021-07-07 18:22:39] Done\n",
      "[2021-07-07 18:22:39] Performing annual aggregation...\n",
      "[2021-07-07 18:22:42] Done.\n",
      " ** Reading year 1984\n",
      "NOTE: Accessing harmonized data from a public UDG dataset\n",
      "[2021-07-07 18:22:42] Defining harmonization parameters for variable \"pr\"\n",
      "[2021-07-07 18:22:42] Opening dataset...\n",
      "[2021-07-07 18:22:43] The dataset was successfuly opened\n",
      "[2021-07-07 18:22:43] Defining geo-location parameters\n",
      "[2021-07-07 18:22:43] Defining time selection parameters\n",
      "[2021-07-07 18:22:43] Retrieving data subset ...\n",
      "[2021-07-07 18:23:38] Done\n",
      "[2021-07-07 18:23:39] Performing annual aggregation...\n",
      "[2021-07-07 18:23:42] Done.\n",
      " ** Reading year 1985\n",
      "NOTE: Accessing harmonized data from a public UDG dataset\n",
      "[2021-07-07 18:23:42] Defining harmonization parameters for variable \"pr\"\n",
      "[2021-07-07 18:23:42] Opening dataset...\n",
      "[2021-07-07 18:23:42] The dataset was successfuly opened\n",
      "[2021-07-07 18:23:42] Defining geo-location parameters\n",
      "[2021-07-07 18:23:43] Defining time selection parameters\n",
      "[2021-07-07 18:23:43] Retrieving data subset ...\n",
      "[2021-07-07 18:24:39] Done\n",
      "[2021-07-07 18:24:39] Performing annual aggregation...\n",
      "[2021-07-07 18:24:42] Done.\n",
      " ** Reading year 1986\n",
      "NOTE: Accessing harmonized data from a public UDG dataset\n",
      "[2021-07-07 18:24:42] Defining harmonization parameters for variable \"pr\"\n",
      "[2021-07-07 18:24:42] Opening dataset...\n",
      "[2021-07-07 18:24:43] The dataset was successfuly opened\n",
      "[2021-07-07 18:24:43] Defining geo-location parameters\n",
      "[2021-07-07 18:24:43] Defining time selection parameters\n",
      "[2021-07-07 18:24:43] Retrieving data subset ...\n",
      "[2021-07-07 18:25:40] Done\n",
      "[2021-07-07 18:25:41] Performing annual aggregation...\n",
      "[2021-07-07 18:25:44] Done.\n",
      " ** Reading year 1987\n",
      "NOTE: Accessing harmonized data from a public UDG dataset\n",
      "[2021-07-07 18:25:44] Defining harmonization parameters for variable \"pr\"\n",
      "[2021-07-07 18:25:44] Opening dataset...\n",
      "[2021-07-07 18:25:44] The dataset was successfuly opened\n",
      "[2021-07-07 18:25:44] Defining geo-location parameters\n",
      "[2021-07-07 18:25:45] Defining time selection parameters\n",
      "[2021-07-07 18:25:45] Retrieving data subset ...\n",
      "[2021-07-07 18:26:41] Done\n",
      "[2021-07-07 18:26:41] Performing annual aggregation...\n",
      "[2021-07-07 18:26:44] Done.\n",
      " ** Reading year 1988\n",
      "NOTE: Accessing harmonized data from a public UDG dataset\n",
      "[2021-07-07 18:26:44] Defining harmonization parameters for variable \"pr\"\n",
      "[2021-07-07 18:26:44] Opening dataset...\n",
      "[2021-07-07 18:26:45] The dataset was successfuly opened\n",
      "[2021-07-07 18:26:45] Defining geo-location parameters\n",
      "[2021-07-07 18:26:45] Defining time selection parameters\n",
      "[2021-07-07 18:26:45] Retrieving data subset ...\n",
      "[2021-07-07 18:27:43] Done\n",
      "[2021-07-07 18:27:43] Performing annual aggregation...\n",
      "[2021-07-07 18:27:46] Done.\n",
      " ** Reading year 1989\n",
      "NOTE: Accessing harmonized data from a public UDG dataset\n",
      "[2021-07-07 18:27:46] Defining harmonization parameters for variable \"pr\"\n",
      "[2021-07-07 18:27:46] Opening dataset...\n",
      "[2021-07-07 18:27:47] The dataset was successfuly opened\n",
      "[2021-07-07 18:27:47] Defining geo-location parameters\n",
      "[2021-07-07 18:27:47] Defining time selection parameters\n",
      "[2021-07-07 18:27:47] Retrieving data subset ...\n",
      "[2021-07-07 18:28:47] Done\n",
      "[2021-07-07 18:28:47] Performing annual aggregation...\n",
      "[2021-07-07 18:28:50] Done.\n",
      " ** Reading year 1990\n",
      "NOTE: Accessing harmonized data from a public UDG dataset\n",
      "[2021-07-07 18:28:50] Defining harmonization parameters for variable \"pr\"\n",
      "[2021-07-07 18:28:51] Opening dataset...\n",
      "[2021-07-07 18:28:51] The dataset was successfuly opened\n",
      "[2021-07-07 18:28:51] Defining geo-location parameters\n",
      "[2021-07-07 18:28:51] Defining time selection parameters\n",
      "[2021-07-07 18:28:52] Retrieving data subset ...\n",
      "[2021-07-07 18:30:03] Done\n",
      "[2021-07-07 18:30:03] Performing annual aggregation...\n",
      "[2021-07-07 18:30:07] Done.\n",
      " ** Reading year 1991\n",
      "NOTE: Accessing harmonized data from a public UDG dataset\n",
      "[2021-07-07 18:30:07] Defining harmonization parameters for variable \"pr\"\n",
      "[2021-07-07 18:30:07] Opening dataset...\n",
      "[2021-07-07 18:30:08] The dataset was successfuly opened\n",
      "[2021-07-07 18:30:08] Defining geo-location parameters\n",
      "[2021-07-07 18:30:08] Defining time selection parameters\n",
      "[2021-07-07 18:30:08] Retrieving data subset ...\n",
      "[2021-07-07 18:31:04] Done\n",
      "[2021-07-07 18:31:05] Performing annual aggregation...\n",
      "[2021-07-07 18:31:07] Done.\n",
      " ** Reading year 1992\n",
      "NOTE: Accessing harmonized data from a public UDG dataset\n",
      "[2021-07-07 18:31:08] Defining harmonization parameters for variable \"pr\"\n",
      "[2021-07-07 18:31:08] Opening dataset...\n",
      "[2021-07-07 18:31:08] The dataset was successfuly opened\n",
      "[2021-07-07 18:31:08] Defining geo-location parameters\n",
      "[2021-07-07 18:31:08] Defining time selection parameters\n",
      "[2021-07-07 18:31:09] Retrieving data subset ...\n",
      "[2021-07-07 18:32:04] Done\n",
      "[2021-07-07 18:32:04] Performing annual aggregation...\n",
      "[2021-07-07 18:32:07] Done.\n",
      " ** Reading year 1993\n",
      "NOTE: Accessing harmonized data from a public UDG dataset\n",
      "[2021-07-07 18:32:07] Defining harmonization parameters for variable \"pr\"\n",
      "[2021-07-07 18:32:07] Opening dataset...\n",
      "[2021-07-07 18:32:08] The dataset was successfuly opened\n",
      "[2021-07-07 18:32:08] Defining geo-location parameters\n",
      "[2021-07-07 18:32:08] Defining time selection parameters\n",
      "[2021-07-07 18:32:08] Retrieving data subset ...\n",
      "[2021-07-07 18:33:04] Done\n",
      "[2021-07-07 18:33:04] Performing annual aggregation...\n",
      "[2021-07-07 18:33:07] Done.\n",
      " ** Reading year 1994\n",
      "NOTE: Accessing harmonized data from a public UDG dataset\n",
      "[2021-07-07 18:33:07] Defining harmonization parameters for variable \"pr\"\n",
      "[2021-07-07 18:33:08] Opening dataset...\n",
      "[2021-07-07 18:33:08] The dataset was successfuly opened\n",
      "[2021-07-07 18:33:08] Defining geo-location parameters\n",
      "[2021-07-07 18:33:08] Defining time selection parameters\n",
      "[2021-07-07 18:33:08] Retrieving data subset ...\n",
      "[2021-07-07 18:34:04] Done\n",
      "[2021-07-07 18:34:04] Performing annual aggregation...\n",
      "[2021-07-07 18:34:07] Done.\n",
      " ** Reading year 1995\n",
      "NOTE: Accessing harmonized data from a public UDG dataset\n",
      "[2021-07-07 18:34:07] Defining harmonization parameters for variable \"pr\"\n",
      "[2021-07-07 18:34:07] Opening dataset...\n",
      "[2021-07-07 18:34:08] The dataset was successfuly opened\n",
      "[2021-07-07 18:34:08] Defining geo-location parameters\n",
      "[2021-07-07 18:34:08] Defining time selection parameters\n"
     ]
    },
    {
     "name": "stderr",
     "output_type": "stream",
     "text": [
      "[2021-07-07 18:34:08] Retrieving data subset ...\n",
      "[2021-07-07 18:35:04] Done\n",
      "[2021-07-07 18:35:04] Performing annual aggregation...\n",
      "[2021-07-07 18:35:07] Done.\n",
      " ** Reading year 1996\n",
      "NOTE: Accessing harmonized data from a public UDG dataset\n",
      "[2021-07-07 18:35:07] Defining harmonization parameters for variable \"pr\"\n",
      "[2021-07-07 18:35:07] Opening dataset...\n",
      "[2021-07-07 18:35:08] The dataset was successfuly opened\n",
      "[2021-07-07 18:35:08] Defining geo-location parameters\n",
      "[2021-07-07 18:35:08] Defining time selection parameters\n",
      "[2021-07-07 18:35:08] Retrieving data subset ...\n",
      "[2021-07-07 18:36:05] Done\n",
      "[2021-07-07 18:36:05] Performing annual aggregation...\n",
      "[2021-07-07 18:36:08] Done.\n",
      " ** Reading year 1997\n",
      "NOTE: Accessing harmonized data from a public UDG dataset\n",
      "[2021-07-07 18:36:08] Defining harmonization parameters for variable \"pr\"\n",
      "[2021-07-07 18:36:08] Opening dataset...\n",
      "[2021-07-07 18:36:09] The dataset was successfuly opened\n",
      "[2021-07-07 18:36:09] Defining geo-location parameters\n",
      "[2021-07-07 18:36:09] Defining time selection parameters\n",
      "[2021-07-07 18:36:09] Retrieving data subset ...\n",
      "[2021-07-07 18:37:07] Done\n",
      "[2021-07-07 18:37:07] Performing annual aggregation...\n",
      "[2021-07-07 18:37:11] Done.\n",
      " ** Reading year 1998\n",
      "NOTE: Accessing harmonized data from a public UDG dataset\n",
      "[2021-07-07 18:37:11] Defining harmonization parameters for variable \"pr\"\n",
      "[2021-07-07 18:37:11] Opening dataset...\n",
      "[2021-07-07 18:37:12] The dataset was successfuly opened\n",
      "[2021-07-07 18:37:12] Defining geo-location parameters\n",
      "[2021-07-07 18:37:12] Defining time selection parameters\n",
      "[2021-07-07 18:37:12] Retrieving data subset ...\n",
      "[2021-07-07 18:38:07] Done\n",
      "[2021-07-07 18:38:07] Performing annual aggregation...\n",
      "[2021-07-07 18:38:10] Done.\n",
      " ** Reading year 1999\n",
      "NOTE: Accessing harmonized data from a public UDG dataset\n",
      "[2021-07-07 18:38:10] Defining harmonization parameters for variable \"pr\"\n",
      "[2021-07-07 18:38:10] Opening dataset...\n",
      "[2021-07-07 18:38:11] The dataset was successfuly opened\n",
      "[2021-07-07 18:38:11] Defining geo-location parameters\n",
      "[2021-07-07 18:38:11] Defining time selection parameters\n",
      "[2021-07-07 18:38:11] Retrieving data subset ...\n",
      "[2021-07-07 18:39:07] Done\n",
      "[2021-07-07 18:39:08] Performing annual aggregation...\n",
      "[2021-07-07 18:39:11] Done.\n",
      " ** Reading year 2000\n",
      "NOTE: Accessing harmonized data from a public UDG dataset\n",
      "[2021-07-07 18:39:11] Defining harmonization parameters for variable \"pr\"\n",
      "[2021-07-07 18:39:11] Opening dataset...\n",
      "[2021-07-07 18:39:12] The dataset was successfuly opened\n",
      "[2021-07-07 18:39:12] Defining geo-location parameters\n",
      "[2021-07-07 18:39:12] Defining time selection parameters\n",
      "[2021-07-07 18:39:12] Retrieving data subset ...\n",
      "[2021-07-07 18:40:07] Done\n",
      "[2021-07-07 18:40:07] Performing annual aggregation...\n",
      "[2021-07-07 18:40:10] Done.\n",
      " ** Reading year 2001\n",
      "NOTE: Accessing harmonized data from a public UDG dataset\n",
      "[2021-07-07 18:40:10] Defining harmonization parameters for variable \"pr\"\n",
      "[2021-07-07 18:40:10] Opening dataset...\n",
      "[2021-07-07 18:40:11] The dataset was successfuly opened\n",
      "[2021-07-07 18:40:11] Defining geo-location parameters\n",
      "[2021-07-07 18:40:11] Defining time selection parameters\n",
      "[2021-07-07 18:40:11] Retrieving data subset ...\n",
      "[2021-07-07 18:41:08] Done\n",
      "[2021-07-07 18:41:08] Performing annual aggregation...\n",
      "[2021-07-07 18:41:12] Done.\n",
      " ** Reading year 2002\n",
      "NOTE: Accessing harmonized data from a public UDG dataset\n",
      "[2021-07-07 18:41:12] Defining harmonization parameters for variable \"pr\"\n",
      "[2021-07-07 18:41:12] Opening dataset...\n",
      "[2021-07-07 18:41:12] The dataset was successfuly opened\n",
      "[2021-07-07 18:41:12] Defining geo-location parameters\n",
      "[2021-07-07 18:41:12] Defining time selection parameters\n",
      "[2021-07-07 18:41:13] Retrieving data subset ...\n",
      "[2021-07-07 18:42:10] Done\n",
      "[2021-07-07 18:42:10] Performing annual aggregation...\n",
      "[2021-07-07 18:42:13] Done.\n",
      " ** Reading year 2003\n",
      "NOTE: Accessing harmonized data from a public UDG dataset\n",
      "[2021-07-07 18:42:13] Defining harmonization parameters for variable \"pr\"\n",
      "[2021-07-07 18:42:14] Opening dataset...\n",
      "[2021-07-07 18:42:14] The dataset was successfuly opened\n",
      "[2021-07-07 18:42:14] Defining geo-location parameters\n",
      "[2021-07-07 18:42:14] Defining time selection parameters\n",
      "[2021-07-07 18:42:14] Retrieving data subset ...\n",
      "[2021-07-07 18:43:11] Done\n",
      "[2021-07-07 18:43:12] Performing annual aggregation...\n",
      "[2021-07-07 18:43:15] Done.\n",
      " ** Reading year 2004\n",
      "NOTE: Accessing harmonized data from a public UDG dataset\n",
      "[2021-07-07 18:43:15] Defining harmonization parameters for variable \"pr\"\n",
      "[2021-07-07 18:43:15] Opening dataset...\n",
      "[2021-07-07 18:43:16] The dataset was successfuly opened\n",
      "[2021-07-07 18:43:16] Defining geo-location parameters\n",
      "[2021-07-07 18:43:16] Defining time selection parameters\n",
      "[2021-07-07 18:43:16] Retrieving data subset ...\n",
      "[2021-07-07 18:44:11] Done\n",
      "[2021-07-07 18:44:12] Performing annual aggregation...\n",
      "[2021-07-07 18:44:14] Done.\n",
      " ** Reading year 2005\n",
      "NOTE: Accessing harmonized data from a public UDG dataset\n",
      "[2021-07-07 18:44:15] Defining harmonization parameters for variable \"pr\"\n",
      "[2021-07-07 18:44:15] Opening dataset...\n",
      "[2021-07-07 18:44:15] The dataset was successfuly opened\n",
      "[2021-07-07 18:44:15] Defining geo-location parameters\n",
      "[2021-07-07 18:44:15] Defining time selection parameters\n",
      "[2021-07-07 18:44:15] Retrieving data subset ...\n",
      "[2021-07-07 18:45:10] Done\n",
      "[2021-07-07 18:45:11] Performing annual aggregation...\n",
      "[2021-07-07 18:45:14] Done.\n",
      " ** Reading year 2006\n",
      "NOTE: Accessing harmonized data from a public UDG dataset\n",
      "[2021-07-07 18:45:14] Defining harmonization parameters for variable \"pr\"\n",
      "[2021-07-07 18:45:14] Opening dataset...\n",
      "[2021-07-07 18:45:15] The dataset was successfuly opened\n",
      "[2021-07-07 18:45:15] Defining geo-location parameters\n",
      "[2021-07-07 18:45:15] Defining time selection parameters\n",
      "[2021-07-07 18:45:15] Retrieving data subset ...\n",
      "[2021-07-07 18:46:10] Done\n",
      "[2021-07-07 18:46:10] Performing annual aggregation...\n",
      "[2021-07-07 18:46:14] Done.\n",
      " ** Reading year 2007\n",
      "NOTE: Accessing harmonized data from a public UDG dataset\n",
      "[2021-07-07 18:46:14] Defining harmonization parameters for variable \"pr\"\n",
      "[2021-07-07 18:46:14] Opening dataset...\n",
      "[2021-07-07 18:46:14] The dataset was successfuly opened\n",
      "[2021-07-07 18:46:14] Defining geo-location parameters\n",
      "[2021-07-07 18:46:15] Defining time selection parameters\n",
      "[2021-07-07 18:46:15] Retrieving data subset ...\n",
      "[2021-07-07 18:47:10] Done\n",
      "[2021-07-07 18:47:10] Performing annual aggregation...\n",
      "[2021-07-07 18:47:13] Done.\n",
      " ** Reading year 2008\n",
      "NOTE: Accessing harmonized data from a public UDG dataset\n",
      "[2021-07-07 18:47:13] Defining harmonization parameters for variable \"pr\"\n",
      "[2021-07-07 18:47:13] Opening dataset...\n",
      "[2021-07-07 18:47:14] The dataset was successfuly opened\n",
      "[2021-07-07 18:47:14] Defining geo-location parameters\n",
      "[2021-07-07 18:47:14] Defining time selection parameters\n",
      "[2021-07-07 18:47:14] Retrieving data subset ...\n",
      "[2021-07-07 18:48:09] Done\n",
      "[2021-07-07 18:48:09] Performing annual aggregation...\n",
      "[2021-07-07 18:48:12] Done.\n",
      " ** Reading year 2009\n",
      "NOTE: Accessing harmonized data from a public UDG dataset\n",
      "[2021-07-07 18:48:12] Defining harmonization parameters for variable \"pr\"\n",
      "[2021-07-07 18:48:13] Opening dataset...\n",
      "[2021-07-07 18:48:13] The dataset was successfuly opened\n",
      "[2021-07-07 18:48:13] Defining geo-location parameters\n",
      "[2021-07-07 18:48:13] Defining time selection parameters\n",
      "[2021-07-07 18:48:13] Retrieving data subset ...\n",
      "[2021-07-07 18:49:11] Done\n",
      "[2021-07-07 18:49:11] Performing annual aggregation...\n",
      "[2021-07-07 18:49:15] Done.\n",
      " ** Reading year 2010\n",
      "NOTE: Accessing harmonized data from a public UDG dataset\n",
      "[2021-07-07 18:49:15] Defining harmonization parameters for variable \"pr\"\n",
      "[2021-07-07 18:49:15] Opening dataset...\n",
      "[2021-07-07 18:49:16] The dataset was successfuly opened\n",
      "[2021-07-07 18:49:16] Defining geo-location parameters\n",
      "[2021-07-07 18:49:16] Defining time selection parameters\n",
      "[2021-07-07 18:49:16] Retrieving data subset ...\n",
      "[2021-07-07 18:50:16] Done\n",
      "[2021-07-07 18:50:16] Performing annual aggregation...\n",
      "[2021-07-07 18:50:19] Done.\n",
      " ** Reading year 2011\n",
      "NOTE: Accessing harmonized data from a public UDG dataset\n",
      "[2021-07-07 18:50:19] Defining harmonization parameters for variable \"pr\"\n",
      "[2021-07-07 18:50:19] Opening dataset...\n"
     ]
    },
    {
     "name": "stderr",
     "output_type": "stream",
     "text": [
      "[2021-07-07 18:50:20] The dataset was successfuly opened\n",
      "[2021-07-07 18:50:20] Defining geo-location parameters\n",
      "[2021-07-07 18:50:20] Defining time selection parameters\n",
      "[2021-07-07 18:50:20] Retrieving data subset ...\n",
      "[2021-07-07 18:51:26] Done\n",
      "[2021-07-07 18:51:27] Performing annual aggregation...\n",
      "[2021-07-07 18:51:30] Done.\n",
      " ** Reading year 2012\n",
      "NOTE: Accessing harmonized data from a public UDG dataset\n",
      "[2021-07-07 18:51:30] Defining harmonization parameters for variable \"pr\"\n",
      "[2021-07-07 18:51:30] Opening dataset...\n",
      "[2021-07-07 18:51:31] The dataset was successfuly opened\n",
      "[2021-07-07 18:51:31] Defining geo-location parameters\n",
      "[2021-07-07 18:51:31] Defining time selection parameters\n",
      "[2021-07-07 18:51:31] Retrieving data subset ...\n",
      "[2021-07-07 18:52:26] Done\n",
      "[2021-07-07 18:52:26] Performing annual aggregation...\n",
      "[2021-07-07 18:52:29] Done.\n",
      " ** Reading year 2013\n",
      "NOTE: Accessing harmonized data from a public UDG dataset\n",
      "[2021-07-07 18:52:29] Defining harmonization parameters for variable \"pr\"\n",
      "[2021-07-07 18:52:29] Opening dataset...\n",
      "[2021-07-07 18:52:30] The dataset was successfuly opened\n",
      "[2021-07-07 18:52:30] Defining geo-location parameters\n",
      "[2021-07-07 18:52:30] Defining time selection parameters\n",
      "[2021-07-07 18:52:30] Retrieving data subset ...\n",
      "[2021-07-07 18:53:28] Done\n",
      "[2021-07-07 18:53:28] Performing annual aggregation...\n",
      "[2021-07-07 18:53:31] Done.\n",
      " ** Reading year 2014\n",
      "NOTE: Accessing harmonized data from a public UDG dataset\n",
      "[2021-07-07 18:53:32] Defining harmonization parameters for variable \"pr\"\n",
      "[2021-07-07 18:53:32] Opening dataset...\n",
      "[2021-07-07 18:53:32] The dataset was successfuly opened\n",
      "[2021-07-07 18:53:32] Defining geo-location parameters\n",
      "[2021-07-07 18:53:32] Defining time selection parameters\n",
      "[2021-07-07 18:53:32] Retrieving data subset ...\n",
      "[2021-07-07 18:54:27] Done\n",
      "[2021-07-07 18:54:28] Performing annual aggregation...\n",
      "[2021-07-07 18:54:31] Done.\n"
     ]
    }
   ],
   "source": [
    "grid.list <- list()\n",
    "for (year in years){\n",
    "    message(\" ** Reading year \", year)\n",
    "    grid.list[[as.character(year)]] <- loadGridData(\n",
    "        dataset = \"PIK_Obs-EWEMBI\", var = var,\n",
    "        latLim = latLim, lonLim = lonLim, years = year\n",
    "    ) %>%\n",
    "    aggregateGrid(aggr.y = list(FUN = \"mean\", na.rm = TRUE)) \n",
    "}\n",
    "grid <- bindGrid(grid.list, dimension = \"time\")                                         \n",
    "attr(grid$xyCoords, \"projection\") <- \"+proj=longlat +datum=WGS84 +no_defs +ellps=WGS84 +towgs84=0,0,0\"  "
   ]
  },
  {
   "cell_type": "markdown",
   "metadata": {},
   "source": [
    "These data took long to generate. We could save them for later use (see next section) by issuing"
   ]
  },
  {
   "cell_type": "code",
   "execution_count": 11,
   "metadata": {},
   "outputs": [],
   "source": [
    "# save(grid, file=\"auxiliary-material/EWEMBI-NorthAmerica-pr-yearly.rda\")"
   ]
  },
  {
   "cell_type": "markdown",
   "metadata": {},
   "source": [
    "### Load data from file\n",
    "\n",
    "Skip this section if you sucessfully loaded your data from the User Data Gateway. For a fast loading of the required data, you can use a copy of the yearly averaged precipitation available in the `auxiliary-material` folder:"
   ]
  },
  {
   "cell_type": "code",
   "execution_count": null,
   "metadata": {},
   "outputs": [],
   "source": [
    "grid <- get(load(\"auxiliary-material/EWEMBI-NorthAmerica-pr-yearly.rda\"))"
   ]
  },
  {
   "cell_type": "markdown",
   "metadata": {},
   "source": [
    "### Working with the data loaded"
   ]
  },
  {
   "cell_type": "markdown",
   "metadata": {},
   "source": [
    "We define the geographical projection."
   ]
  },
  {
   "cell_type": "code",
   "execution_count": 12,
   "metadata": {},
   "outputs": [
    {
     "name": "stderr",
     "output_type": "stream",
     "text": [
      "Warning message in showSRID(uprojargs, format = \"PROJ\", multiline = \"NO\"):\n",
      "“Discarded datum WGS_1984 in CRS definition,\n",
      " but +towgs84= values preserved”Warning message in proj4string(obj):\n",
      "“CRS object has comment, which is lost in output”Warning message in `proj4string<-`(`*tmp*`, value = new(\"CRS\", projargs = \"+proj=longlat +ellps=WGS84 +towgs84=0,0,0,0,0,0,0 +no_defs\")):\n",
      "“A new CRS was assigned to an object with an existing CRS:\n",
      "+proj=longlat +ellps=WGS84 +no_defs\n",
      "without reprojecting.\n",
      "For reprojection, use function spTransform”"
     ]
    }
   ],
   "source": [
    "proj4string(regs) <- CRS(attr(grid$xyCoords,\"projection\"))"
   ]
  },
  {
   "cell_type": "markdown",
   "metadata": {},
   "source": [
    "We compute the climatology by calling the `climatology` function and then use `spatialPlot` from library `visualizeR` to depict it. We introduce the IPCC regions of interest in the `sp.layout` argument."
   ]
  },
  {
   "cell_type": "code",
   "execution_count": 13,
   "metadata": {
    "scrolled": false
   },
   "outputs": [
    {
     "name": "stderr",
     "output_type": "stream",
     "text": [
      "[2021-07-07 18:56:07] - Computing climatology...\n",
      "[2021-07-07 18:56:07] - Done.\n"
     ]
    },
    {
     "data": {
      "image/png": "[encoded data removed]",
      "text/plain": [
       "plot without title"
      ]
     },
     "metadata": {},
     "output_type": "display_data"
    }
   ],
   "source": [
    "spatialPlot(climatology(grid),\n",
    "            at = colorScale_climatology, \n",
    "            set.min = colorScale_climatology[1],\n",
    "            set.max = colorScale_climatology[length(colorScale_climatology)],\n",
    "            backdrop.theme = \"coastline\",\n",
    "            col.regions = brewer.pal(n = 9, \"BuPu\") %>% colorRampPalette(),\n",
    "            main = paste(\"Climatology of the annual total precipitation (Daymet, 1980-2014) - mm/day\"),\n",
    "            sp.layout = list(\n",
    "                list(regs[regs.area], first = FALSE, lwd = 0.6),\n",
    "                list(\"sp.text\", coordinates(regs[regs.area]), names(regs[regs.area]), first = FALSE, cex = 0.6)\n",
    "))"
   ]
  },
  {
   "cell_type": "markdown",
   "metadata": {},
   "source": [
    "We call the function `linearTrend` that computes the linear points at gridbox level and returns all the involved statistics (e.g., p-value of the estimated slope). We subset the slope (\"b\") among all the statistics returned, by calling `subsetGrid`. "
   ]
  },
  {
   "cell_type": "code",
   "execution_count": 14,
   "metadata": {},
   "outputs": [
    {
     "ename": "ERROR",
     "evalue": "Error in linearTrend(grid, p = 0.9): could not find function \"linearTrend\"\n",
     "output_type": "error",
     "traceback": [
      "Error in linearTrend(grid, p = 0.9): could not find function \"linearTrend\"\nTraceback:\n",
      "1. linearTrend(grid, p = 0.9) %>% subsetGrid(var = \"b\")",
      "2. subsetGrid(., var = \"b\")",
      "3. subsetVar(grid, var)",
      "4. getVarNames(grid)"
     ]
    }
   ],
   "source": [
    "trendGrid <- linearTrend(grid, p = 0.9) %>% subsetGrid(var = \"b\")"
   ]
  },
  {
   "cell_type": "markdown",
   "metadata": {},
   "source": [
    "We could save this climate products as NetCDF files using `loader.2nc` C4R library."
   ]
  },
  {
   "cell_type": "code",
   "execution_count": null,
   "metadata": {},
   "outputs": [],
   "source": [
    "# library(loadeR.2nc) # uncomment to save the trends as netCDF files\n",
    "# grid2nc(trendGrid, NetCDFOutFile = \"trends.nc4\") # uncomment to save the trends as netCDF files"
   ]
  },
  {
   "cell_type": "markdown",
   "metadata": {},
   "source": [
    "We call the function `overGrid` that overlaps the trends object with the IPCC regions located over NorthAmerica."
   ]
  },
  {
   "cell_type": "code",
   "execution_count": null,
   "metadata": {},
   "outputs": [],
   "source": [
    "regsGrid <- overGrid(trendGrid, regs[regs.area])"
   ]
  },
  {
   "cell_type": "markdown",
   "metadata": {},
   "source": [
    "We rely on `spatialPlot` from visualizeR, to depict the trend maps."
   ]
  },
  {
   "cell_type": "code",
   "execution_count": null,
   "metadata": {},
   "outputs": [],
   "source": [
    "spatialPlot(regsGrid, \n",
    "            col.regions = brewer.pal(n = 9, \"BrBG\") %>% colorRampPalette(),\n",
    "            at = colorScale_trends, \n",
    "            set.min = colorScale_trends[1],\n",
    "            set.max = colorScale_trends[length(colorScale_trends)],\n",
    "            main = paste(\"Linear trends of the annual total precipitaion (mm/day) - Daymet\"),\n",
    "            sp.layout = list(  \n",
    "            list(regs[regs.area], first = FALSE, lwd = 0.6),\n",
    "            list(coast, col = \"gray50\", first = FALSE, lwd = 0.6),  \n",
    "            list(\"sp.text\", coordinates(regs[regs.area]), names(regs[regs.area]), first = FALSE, cex = 0.6)\n",
    "))"
   ]
  },
  {
   "cell_type": "markdown",
   "metadata": {},
   "source": [
    "We repeat the process but to the obtain the p-values of the linear trends. Therefore we subset the variable `\"pval\"`using `subsetGrid`. Then we mask the p-values over the IPCC regions using function `overGrid`. But previously we build an artificial land-sea mask to avoid R misuses with NaN data over the sea when calculating the p-values."
   ]
  },
  {
   "cell_type": "code",
   "execution_count": null,
   "metadata": {},
   "outputs": [],
   "source": [
    "mask <- binaryGrid(climatology(grid),condition = \"GE\", threshold = 0, values = c(NA,1))\n",
    "pvalGrid <- linearTrend(grid, p = 0.9) %>% subsetGrid(var = \"pval\") %>% gridArithmetics(mask) \n",
    "pvalGrid <- overGrid(pvalGrid, regs[regs.area])"
   ]
  },
  {
   "cell_type": "markdown",
   "metadata": {},
   "source": [
    "We use the p-values computed above to perform hatching over the future spatial maps. To do so, we capsulate the function `map.hatching` in a 2-way loop that corresponds to each line in a 'x' symbol. An 'x' would be associated whenever the condition is fullfilled, in our casem whenever the p-value is greater than 0.1. The `aggr.fun` indicates how to treat/aggregate the information contained in adjacent spatial gridpoints when upscaling is done."
   ]
  },
  {
   "cell_type": "code",
   "execution_count": null,
   "metadata": {},
   "outputs": [],
   "source": [
    "aggr.fun <- function(x) {\n",
    "    xx <- length(which(!is.na(x)))/length(x) * 100\n",
    "    if (as.numeric(xx >= 75)) 0 else NA\n",
    "}\n",
    "l <- lapply(c(\"45\",\"-45\"), FUN = function(z) {\n",
    "    c(map.hatching(clim = climatology(pvalGrid), \n",
    "                   threshold = 0.1, \n",
    "                   condition = \"GT\", \n",
    "                   density = 6,\n",
    "                   angle = z, coverage.percent = 50,\n",
    "                   upscaling.aggr.fun = list(FUN = aggr.fun)), \n",
    "    \"which\" = 1, lwd = 0.6)\n",
    "})"
   ]
  },
  {
   "cell_type": "markdown",
   "metadata": {},
   "source": [
    "We rely on `spatialPlot` from visualizeR, to depict the trend maps and include the p-value as hatching as a member of the `sp.layout` list."
   ]
  },
  {
   "cell_type": "code",
   "execution_count": null,
   "metadata": {},
   "outputs": [],
   "source": [
    "spatialPlot(regsGrid, \n",
    "            col.regions = brewer.pal(n = 9, \"BrBG\") %>% colorRampPalette(),\n",
    "            at = colorScale_trends, \n",
    "            set.min = colorScale_trends[1],\n",
    "            set.max = colorScale_trends[length(colorScale_trends)],\n",
    "            main = paste(\"Linear trends of the annual total precipitation (mm/day) - Daymet\"),\n",
    "            sp.layout = list(\n",
    "            l[[1]],l[[2]],  \n",
    "            list(regs[regs.area], first = FALSE, lwd = 0.6),\n",
    "            list(coast, col = \"gray50\", first = FALSE, lwd = 0.6),  \n",
    "            list(\"sp.text\", coordinates(regs[regs.area]), names(regs[regs.area]), first = FALSE, cex = 0.6)\n",
    "))"
   ]
  },
  {
   "cell_type": "markdown",
   "metadata": {},
   "source": [
    "We loop over the IPCC regions to generate as many members as regions containing the temporal series. This would facilitate to obtain spatial averages over each region since their information has been splitted in members over an `R` list. To do so we rely on function `overGrid`."
   ]
  },
  {
   "cell_type": "code",
   "execution_count": null,
   "metadata": {},
   "outputs": [],
   "source": [
    "grid.regs <- lapply(regs.area, function(r) overGrid(grid, regs[r]))\n",
    "names(grid.regs) <- regs.area"
   ]
  },
  {
   "cell_type": "markdown",
   "metadata": {},
   "source": [
    "We compute the anomalies by calling `scaleGrid` of `transformeR` and setting the argument `type = center` to substract the mean to the temporal series. Previously, we call `aggregateGrid` over the list of IPCC objets to average over each region and therefore output the temporal series for every North American IPCC region."
   ]
  },
  {
   "cell_type": "code",
   "execution_count": null,
   "metadata": {},
   "outputs": [],
   "source": [
    "grid.anom <- lapply(grid.regs, function(x) aggregateGrid(x, aggr.lat = list(FUN = \"mean\", na.rm = TRUE), aggr.lon = list(FUN = \"mean\", na.rm = TRUE)) %>% scaleGrid(type = \"center\"))  "
   ]
  },
  {
   "cell_type": "markdown",
   "metadata": {},
   "source": [
    "Finally, we call `temporalPlot` of library `visualizeR` to depict the resulting anomaly time series."
   ]
  },
  {
   "cell_type": "code",
   "execution_count": null,
   "metadata": {},
   "outputs": [],
   "source": [
    "lapply(1:length(grid.anom), FUN = function(x) {\n",
    "  aux <- (linearTrend(grid.anom[[x]], p = 0.9) %>% subsetGrid(var = \"b\"))$Data[1]\n",
    "  \n",
    "  key.trans <- list(space=\"right\",\n",
    "                    text=list(c(paste(\"Daymet\",\"(\",round(aux,digits=2),\")\"))),\n",
    "                    lines=list(col=c(\"black\"), lty = c(1)))                \n",
    "  temporalPlot(grid.anom[[x]],\n",
    "               xyplot.custom = list(\n",
    "                 main = paste(\"Precipitation anomaly time series (mm/day) of\",regs.area[x]),\n",
    "                 ylim = ylim_anom,\n",
    "                 key = key.trans   \n",
    "               ))\n",
    "})                "
   ]
  },
  {
   "cell_type": "code",
   "execution_count": null,
   "metadata": {},
   "outputs": [],
   "source": []
  }
 ],
 "metadata": {
  "kernelspec": {
   "display_name": "R",
   "language": "R",
   "name": "ir"
  },
  "language_info": {
   "codemirror_mode": "r",
   "file_extension": ".r",
   "mimetype": "text/x-r-source",
   "name": "R",
   "pygments_lexer": "r",
   "version": "3.6.3"
  }
 },
 "nbformat": 4,
 "nbformat_minor": 4
}
