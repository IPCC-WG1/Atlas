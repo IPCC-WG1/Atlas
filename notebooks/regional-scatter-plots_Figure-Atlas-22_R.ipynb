{
 "cells": [
  {
   "cell_type": "markdown",
   "metadata": {},
   "source": [
    "# Atlas notebooks\n",
    "\n",
    "***\n",
    "\n",
    "> This notebook is an extension of the `regional-scatter-plots_R.ipynb` notebook (available in the same repository https://github.com/IPCC-WG1/Atlas/notebooks/) which provides a clear demonstration of the specific steps and parameters required to accurately replicate **Figure Atlas. 22** of the AR6-WGI Atlas Chapter. It is part of a notebook collection available at https://github.com/IPCC-WG1/Atlas for reproducibility and reusability purposes. This work is licensed under a [Creative Commons Attribution 4.0 International License](http://creativecommons.org/licenses/by/4.0).\n",
    ">\n",
    "> ![Creative Commons License >](https://i.creativecommons.org/l/by/4.0/88x31.png)\n",
    ">\n",
    "> To cite this notebook please refere to the main notebook: `regional-scatter-plots_R.ipynb`"
   ]
  },
  {
   "cell_type": "markdown",
   "metadata": {
    "button": false,
    "deletable": true,
    "new_sheet": false,
    "run_control": {
     "read_only": false
    }
   },
   "source": [
    "## Computing and visualizing regional climate change (temperature vs precipitation) for reference regions: Figure Atlas.22\n",
    "\n",
    "24/6/2021\n",
    "\n",
    "**M. Iturbide** (Santander Meteorology Group. Institute of Physics of Cantabria, CSIC-UC, Santander, Spain).\n",
    "\n",
    "This notebook reproduces **Figure Atlas.22** of the AR6-WGI Atlas chapter. This is, the scatter plots of the regional climate change temperature vs. precipitation using CMIP5, CMIP6 and CORDEX datasets. This notebook builds on other sections of the repository: 1) auxiliary scripts from [reproducibility](https://github.com/IPCC-WG1/Atlas/tree/main/reproducibility), and 2) CMIP5/6 - CORDEX [aggregated datasets](https://github.com/IPCC-WG1/Atlas/tree/main/datasets-aggregated-regionally) for the WGI reference regions.\n",
    "\n",
    "The legend and axis label information of the panels generated here is the one shown in the AR6-WGI Atlas chapter figures. The first column shows the annual temperature delta changes. The second and third columns, the scatterplots of the seasonal temperature and precipitation changes. Each row corresponds to a different reference region or, as in this case, to global results (World).\n",
    "\n",
    "Before starting, the size of the graphic space of this notebook is defined to generate figures of an appropriate size:"
   ]
  },
  {
   "cell_type": "code",
   "execution_count": null,
   "metadata": {},
   "outputs": [],
   "source": [
    "library(repr)\n",
    "# Change plot size to 4 x 3\n",
    "options(repr.plot.width=14, repr.plot.height=6)"
   ]
  },
  {
   "cell_type": "markdown",
   "metadata": {},
   "source": [
    "### Easy and direct production of the figure"
   ]
  },
  {
   "cell_type": "markdown",
   "metadata": {
    "button": false,
    "deletable": true,
    "new_sheet": false,
    "run_control": {
     "read_only": false
    }
   },
   "source": [
    "#### Load packages and functions\n",
    "This notebook is based on the R programming language and requires packages:\n",
    "\n",
    " * `magrittr` to pipe (`%>%`) sequences of operations\n",
    " * `httr` to handle URLs and HTTP\n",
    " * `lattice` and `latticeExtra` to produce the figures\n",
    " * `gridExtra` to produce the final panel of plots"
   ]
  },
  {
   "cell_type": "code",
   "execution_count": null,
   "metadata": {
    "button": false,
    "deletable": true,
    "new_sheet": false,
    "run_control": {
     "read_only": false
    }
   },
   "outputs": [],
   "source": [
    "library(magrittr)\n",
    "library(httr)\n",
    "library(lattice)\n",
    "library(latticeExtra)\n",
    "library(gridExtra)"
   ]
  },
  {
   "cell_type": "markdown",
   "metadata": {},
   "source": [
    "The main function to generate the boxplots and scatterplots is `computeFigures`, which internally uses functions `computeDeltas` and `computeOffset`, all available in this repository. To load these functions in the working environment use the `source` R base function as follows."
   ]
  },
  {
   "cell_type": "code",
   "execution_count": null,
   "metadata": {},
   "outputs": [],
   "source": [
    "source(\"../datasets-aggregated-regionally/scripts/computeDeltas.R\")\n",
    "source(\"../datasets-aggregated-regionally/scripts/computeFigures.R\")\n",
    "source(\"../datasets-aggregated-regionally/scripts/computeOffset.R\")"
   ]
  },
  {
   "cell_type": "markdown",
   "metadata": {
    "button": false,
    "deletable": true,
    "new_sheet": false,
    "run_control": {
     "read_only": false
    }
   },
   "source": [
    "#### Parameter setting \n",
    "\n",
    "We define the parameters:\n",
    "- The seasons to show in the Precipitation vs Temperature scatterplots (E.g. 1:12 for annual and c(12, 1, 2) for the boreal winter)\n",
    "- The baseline period (e.g. AR6 reference period 1995-2014). Available years in the datasets are 1850-1900 and 1950-2100.\n",
    "- The area, i.e. \"land\", \"sea\" or \"landsea\"\n",
    "- The reference regions (see reference-regions in this repository). Use `world` to generate global results.\n",
    "- Select a CORDEX domain from the following options: SAM, CAM, NAM, AFR, WAS, EAS, AUS, ANT, ARC, SEA and EUR (use FALSE to exclude CORDEX)\n",
    "- Figure axes ranges (ylim for temperature, xlim for precipitation percentage). Use `y <- NULL` and `x <- NULL` for automatic axes ranges.\n",
    "\n",
    "This is the parameter setting for reproducing the first part of **Figure Atlas. 22**:"
   ]
  },
  {
   "cell_type": "code",
   "execution_count": null,
   "metadata": {
    "button": false,
    "deletable": true,
    "new_sheet": false,
    "run_control": {
     "read_only": false
    }
   },
   "outputs": [],
   "source": [
    "scatter.seasons <- list(1:12, c(12, 1, 2), 6:8)\n",
    "ref.period <- 1995:2014\n",
    "area <- \"land\"\n",
    "regions <- c(\"NCA\", \"SCA\", \"CAR\")\n",
    "cordex.domain <- \"CAM\"\n",
    "ylim <- NULL\n",
    "xlim <- NULL"
   ]
  },
  {
   "cell_type": "markdown",
   "metadata": {},
   "source": [
    "#### Compute delta changes and figures\n",
    "\n",
    "We are ready to apply the `computeFigures` function."
   ]
  },
  {
   "cell_type": "code",
   "execution_count": null,
   "metadata": {},
   "outputs": [],
   "source": [
    "fig1 <- computeFigures(regions = regions,\n",
    "                      cordex.domain = cordex.domain,\n",
    "                      area = area, \n",
    "                      ref.period = ref.period, \n",
    "                      scatter.seasons = scatter.seasons,\n",
    "                      xlim = xlim,\n",
    "                      ylim = ylim)"
   ]
  },
  {
   "cell_type": "markdown",
   "metadata": {},
   "source": [
    "The output of the above call (`fig1`) is a list of `trellis` class objects that can be easily arranged and displayed using the `grid.arrange` function from the `gridExtra` library."
   ]
  },
  {
   "cell_type": "code",
   "execution_count": null,
   "metadata": {},
   "outputs": [],
   "source": [
    "do.call(\"grid.arrange\", fig1)"
   ]
  },
  {
   "cell_type": "markdown",
   "metadata": {},
   "source": [
    "The legend and axis label information of these panels is the one shown in the AR6-WGI Atlas chapter figures. The first column shows the annual temperature delta changes. The second and third columns, the scatterplots of the seasonal temperature and precipitation changes. Each row corresponds to a different reference region. The legend is also available in this repository as a `png` file under the [notebooks/auxiliary-material]((https://github.com/IPCC-WG1/Atlas/tree/main/notebooks/auxiliary-material) folder:"
   ]
  },
  {
   "attachments": {
    "4523ffcb-4686-4718-9621-aae68d14faee.png": {
     "image/png": "[encoded data removed]"
    }
   },
   "cell_type": "markdown",
   "metadata": {},
   "source": [
    "![Legend_Figures-Atlas_13-16-17-21-22-24-26-28-29.png](attachment:4523ffcb-4686-4718-9621-aae68d14faee.png)"
   ]
  },
  {
   "cell_type": "markdown",
   "metadata": {},
   "source": [
    "\n",
    "We can now export the Figure as PDF. There are other export options such as `png` (type `?pdf` for help). The `Cairo` package provides other export options. "
   ]
  },
  {
   "cell_type": "code",
   "execution_count": null,
   "metadata": {},
   "outputs": [],
   "source": [
    "outfilename <- sprintf(\"%s_%s_baseperiod_%s_ATvsAP.pdf\",\n",
    "  cordex.domain, area, paste(range(ref.period), collapse = \"-\")\n",
    ")\n",
    "\n",
    "pdf(outfilename, width = (length(scatter.seasons)+1)*10/2*0.85, height = length(regions)*10/2*0.85)\n",
    "  do.call(\"grid.arrange\", fig)\n",
    "dev.off()"
   ]
  },
  {
   "cell_type": "markdown",
   "metadata": {},
   "source": [
    "Repeat the operation for the other part of the Figure, the one corresponding to the `SAM` CORDEX domain:"
   ]
  },
  {
   "cell_type": "code",
   "execution_count": 1,
   "metadata": {},
   "outputs": [],
   "source": [
    "regions <- c(\"NWS\",\"NSA\", \"SAM\", \"NES\", \"SWS\", \"SES\", \"SSA\")\n",
    "cordex.domain <- \"SAM\""
   ]
  },
  {
   "cell_type": "code",
   "execution_count": null,
   "metadata": {},
   "outputs": [],
   "source": [
    "fig2 <- computeFigures(regions = regions,\n",
    "                      cordex.domain = cordex.domain,\n",
    "                      area = area, \n",
    "                      ref.period = ref.period, \n",
    "                      scatter.seasons = scatter.seasons,\n",
    "                      xlim = xlim,\n",
    "                      ylim = ylim)"
   ]
  },
  {
   "cell_type": "code",
   "execution_count": null,
   "metadata": {},
   "outputs": [],
   "source": [
    "do.call(\"grid.arrange\", fig2)"
   ]
  },
  {
   "cell_type": "markdown",
   "metadata": {},
   "source": [
    "### Session Information"
   ]
  },
  {
   "cell_type": "code",
   "execution_count": null,
   "metadata": {},
   "outputs": [],
   "source": [
    "sessionInfo()"
   ]
  }
 ],
 "metadata": {
  "kernelspec": {
   "display_name": "R",
   "language": "R",
   "name": "ir"
  },
  "language_info": {
   "codemirror_mode": "r",
   "file_extension": ".r",
   "mimetype": "text/x-r-source",
   "name": "R",
   "pygments_lexer": "r",
   "version": "4.0.3"
  },
  "toc-autonumbering": false
 },
 "nbformat": 4,
 "nbformat_minor": 4
}
